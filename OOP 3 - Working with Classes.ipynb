{
 "cells": [
  {
   "cell_type": "markdown",
   "metadata": {},
   "source": [
    "# Regular method\n",
    "* pass the instance as the first argument: self"
   ]
  },
  {
   "cell_type": "code",
   "execution_count": 2,
   "metadata": {},
   "outputs": [],
   "source": [
    "class Employee:\n",
    " \n",
    "    # 類別屬性\n",
    "    num_of_emps = 0\n",
    "    raise_amt = 1.04\n",
    "    \n",
    "    def __init__(self, first, last, pay):\n",
    "        \n",
    "        # 實例屬性\n",
    "        self.first = first\n",
    "        self.last = last\n",
    "        self.email = first + '.' + last + '@mail.com'\n",
    "        self.pay = pay\n",
    "        \n",
    "        Employee.num_of_emps += 1 \n",
    "        # 計算共有幾個物件\n",
    "        \n",
    "    def fullname(self):\n",
    "        return '{} {}'.format(self.first, self.last)\n",
    "    \n",
    "    def apply_raise_amt(self):\n",
    "        # self.pay = int(self.pay * raise_amt) >>raise_amt 會有bug\n",
    "        self.pay = int(self.pay * self.raise_amt)\n",
    "        \n",
    "    @classmethod\n",
    "    def set_raise_amt(cls, amount): # 不可用class當作variable\n",
    "        \"\"\"amount: 要加薪的倍率, ex:1.05 \"\"\"\n",
    "        cls.raise_amt = amount"
   ]
  },
  {
   "cell_type": "code",
   "execution_count": 40,
   "metadata": {},
   "outputs": [
    {
     "data": {
      "text/plain": [
       "mappingproxy({'__module__': '__main__',\n",
       "              'num_of_emps': 0,\n",
       "              'raise_amt': 1.04,\n",
       "              '__init__': <function __main__.Employee.__init__(self, first, last, pay)>,\n",
       "              'fullname': <function __main__.Employee.fullname(self)>,\n",
       "              'apply_raise_amt': <function __main__.Employee.apply_raise_amt(self)>,\n",
       "              'set_raise_amt': <classmethod at 0x279505cf668>,\n",
       "              'form_string': <classmethod at 0x279505f10b8>,\n",
       "              'is_workday': <staticmethod at 0x279505f1208>,\n",
       "              '__dict__': <attribute '__dict__' of 'Employee' objects>,\n",
       "              '__weakref__': <attribute '__weakref__' of 'Employee' objects>,\n",
       "              '__doc__': None})"
      ]
     },
     "execution_count": 40,
     "metadata": {},
     "output_type": "execute_result"
    }
   ],
   "source": [
    "Employee.__dict__"
   ]
  },
  {
   "cell_type": "code",
   "execution_count": 3,
   "metadata": {},
   "outputs": [],
   "source": [
    "emp_1 = Employee('Tsao', 'Yuki', 30000)\n",
    "emp_2 = Employee('Liu', 'Andy', 100000)"
   ]
  },
  {
   "cell_type": "code",
   "execution_count": 4,
   "metadata": {},
   "outputs": [
    {
     "data": {
      "text/plain": [
       "'Liu Andy'"
      ]
     },
     "execution_count": 4,
     "metadata": {},
     "output_type": "execute_result"
    }
   ],
   "source": [
    "Employee.fullname(emp_2)"
   ]
  },
  {
   "cell_type": "code",
   "execution_count": 5,
   "metadata": {},
   "outputs": [
    {
     "data": {
      "text/plain": [
       "30000"
      ]
     },
     "execution_count": 5,
     "metadata": {},
     "output_type": "execute_result"
    }
   ],
   "source": [
    "emp_1.pay"
   ]
  },
  {
   "cell_type": "code",
   "execution_count": 6,
   "metadata": {},
   "outputs": [],
   "source": [
    "emp_1.apply_raise_amt()"
   ]
  },
  {
   "cell_type": "code",
   "execution_count": 7,
   "metadata": {},
   "outputs": [
    {
     "data": {
      "text/plain": [
       "31200"
      ]
     },
     "execution_count": 7,
     "metadata": {},
     "output_type": "execute_result"
    }
   ],
   "source": [
    "emp_1.pay"
   ]
  },
  {
   "cell_type": "code",
   "execution_count": 8,
   "metadata": {},
   "outputs": [],
   "source": [
    "Employee.set_raise_amt(1.01)\n",
    "# the same thing as use Employee.raise_amt = 1.01"
   ]
  },
  {
   "cell_type": "code",
   "execution_count": 11,
   "metadata": {},
   "outputs": [
    {
     "data": {
      "text/plain": [
       "1.01"
      ]
     },
     "execution_count": 11,
     "metadata": {},
     "output_type": "execute_result"
    }
   ],
   "source": [
    "Employee.raise_amt"
   ]
  },
  {
   "cell_type": "code",
   "execution_count": 12,
   "metadata": {},
   "outputs": [
    {
     "data": {
      "text/plain": [
       "1.01"
      ]
     },
     "execution_count": 12,
     "metadata": {},
     "output_type": "execute_result"
    }
   ],
   "source": [
    "emp_1.raise_amt"
   ]
  },
  {
   "cell_type": "code",
   "execution_count": 13,
   "metadata": {},
   "outputs": [],
   "source": [
    "emp_1.apply_raise_amt()"
   ]
  },
  {
   "cell_type": "code",
   "execution_count": 15,
   "metadata": {},
   "outputs": [
    {
     "data": {
      "text/plain": [
       "31512"
      ]
     },
     "execution_count": 15,
     "metadata": {},
     "output_type": "execute_result"
    }
   ],
   "source": [
    "emp_1.pay"
   ]
  },
  {
   "cell_type": "markdown",
   "metadata": {},
   "source": [
    "### Use class methods to provide multiple ways of create objects"
   ]
  },
  {
   "cell_type": "code",
   "execution_count": 16,
   "metadata": {},
   "outputs": [],
   "source": [
    "emp_str1 = 'John-Dow-70000'\n",
    "emp_str2 = 'Steve-Smith-30000'\n",
    "emp_str3 = 'Jane-Doe-90000'"
   ]
  },
  {
   "cell_type": "code",
   "execution_count": 17,
   "metadata": {},
   "outputs": [],
   "source": [
    "first, last, pay = emp_str1.split('-')"
   ]
  },
  {
   "cell_type": "code",
   "execution_count": 18,
   "metadata": {},
   "outputs": [],
   "source": [
    "new_emp_1 = Employee(first, last, pay)"
   ]
  },
  {
   "cell_type": "code",
   "execution_count": 19,
   "metadata": {},
   "outputs": [
    {
     "name": "stdout",
     "output_type": "stream",
     "text": [
      "John.Dow@mail.com\n"
     ]
    }
   ],
   "source": [
    "print(new_emp_1.email)"
   ]
  },
  {
   "cell_type": "code",
   "execution_count": 20,
   "metadata": {},
   "outputs": [
    {
     "name": "stdout",
     "output_type": "stream",
     "text": [
      "70000\n"
     ]
    }
   ],
   "source": [
    "print(new_emp_1.pay)"
   ]
  },
  {
   "cell_type": "code",
   "execution_count": 24,
   "metadata": {},
   "outputs": [],
   "source": [
    "class Employee:\n",
    " \n",
    "    # 類別屬性\n",
    "    num_of_emps = 0\n",
    "    raise_amt = 1.04\n",
    "    \n",
    "    def __init__(self, first, last, pay):\n",
    "        \n",
    "        # 實例屬性\n",
    "        self.first = first\n",
    "        self.last = last\n",
    "        self.email = first + '.' + last + '@mail.com'\n",
    "        self.pay = pay\n",
    "        \n",
    "        Employee.num_of_emps += 1 \n",
    "        # 計算共有幾個物件\n",
    "        \n",
    "    def fullname(self):\n",
    "        return '{} {}'.format(self.first, self.last)\n",
    "    \n",
    "    def apply_raise_amt(self):\n",
    "        # self.pay = int(self.pay * raise_amt) >>raise_amt 會有bug\n",
    "        self.pay = int(self.pay * self.raise_amt)\n",
    "        \n",
    "    @classmethod\n",
    "    def set_raise_amt(cls, amount): # 不可用class當作variable\n",
    "        \"\"\"amount: 要加薪的倍率, ex:1.05 \"\"\"\n",
    "        cls.raise_amt = amount\n",
    "        \n",
    "    @classmethod\n",
    "    def form_string(cls, emp_str):\n",
    "        first, last, pay = emp_str.split('-')\n",
    "        return cls(first, last, pay)"
   ]
  },
  {
   "cell_type": "code",
   "execution_count": 26,
   "metadata": {},
   "outputs": [],
   "source": [
    "new_emp_2 = Employee.form_string(emp_str2)"
   ]
  },
  {
   "cell_type": "code",
   "execution_count": 29,
   "metadata": {},
   "outputs": [
    {
     "data": {
      "text/plain": [
       "'Steve.Smith@mail.com'"
      ]
     },
     "execution_count": 29,
     "metadata": {},
     "output_type": "execute_result"
    }
   ],
   "source": [
    "new_emp_2.email"
   ]
  },
  {
   "cell_type": "markdown",
   "metadata": {},
   "source": [
    "## Additional class method constructors: datetime module"
   ]
  },
  {
   "cell_type": "code",
   "execution_count": 30,
   "metadata": {},
   "outputs": [],
   "source": [
    "class date_time:\n",
    "    \n",
    "    @classmethod\n",
    "    def fromtimestamp(cls, t):\n",
    "        \"Construct a date form a POSIX timestamp(like time.time()).\"\n",
    "        y, m, d, hh, mm, ss, weekday, jday, dst = _time.localtime(t)\n",
    "        return cls(y, m, d)\n",
    "    \n",
    "    @classmethod\n",
    "    def today(cls):\n",
    "        \"Construct a date from time.time().\"\n",
    "        t = _time.time\n",
    "        return cls.fromtimestamp(t)"
   ]
  },
  {
   "cell_type": "markdown",
   "metadata": {},
   "source": [
    "# Static methods"
   ]
  },
  {
   "cell_type": "markdown",
   "metadata": {},
   "source": [
    "* 輸入一個日期，判斷他是不是工作日"
   ]
  },
  {
   "cell_type": "code",
   "execution_count": 34,
   "metadata": {},
   "outputs": [],
   "source": [
    "class Employee:\n",
    "\n",
    "    num_of_emps = 0\n",
    "    raise_amt = 1.04\n",
    "    \n",
    "    def __init__(self, first, last, pay):\n",
    "        \n",
    "        self.first = first\n",
    "        self.last = last\n",
    "        self.email = first + '.' + last + '@mail.com'\n",
    "        self.pay = pay\n",
    "        \n",
    "        Employee.num_of_emps += 1 \n",
    "        \n",
    "    def fullname(self):\n",
    "        return '{} {}'.format(self.first, self.last)\n",
    "    \n",
    "    def apply_raise_amt(self):\n",
    "        # self.pay = int(self.pay * raise_amt) >>raise_amt 會有bug\n",
    "        self.pay = int(self.pay * self.raise_amt)\n",
    "        \n",
    "    @classmethod\n",
    "    def set_raise_amt(cls, amount): # 不可用class當作variable\n",
    "        \"\"\"amount: 要加薪的倍率, ex:1.05 \"\"\"\n",
    "        cls.raise_amt = amount\n",
    "        \n",
    "    @classmethod\n",
    "    def form_string(cls, emp_str):\n",
    "        first, last, pay = emp_str.split('-')\n",
    "        return cls(first, last, pay)\n",
    "    \n",
    "    @staticmethod\n",
    "    def is_workday(day):\n",
    "        # weekday() == 0 >> Monday\n",
    "        if day.weekday() == 5 or day.weekday() == 6:\n",
    "            return False\n",
    "        return True"
   ]
  },
  {
   "cell_type": "code",
   "execution_count": 35,
   "metadata": {},
   "outputs": [],
   "source": [
    "import datetime"
   ]
  },
  {
   "cell_type": "code",
   "execution_count": 38,
   "metadata": {},
   "outputs": [],
   "source": [
    "my_date = datetime.date(2020, 7, 6)"
   ]
  },
  {
   "cell_type": "code",
   "execution_count": 39,
   "metadata": {},
   "outputs": [
    {
     "name": "stdout",
     "output_type": "stream",
     "text": [
      "True\n"
     ]
    }
   ],
   "source": [
    "print(Employee.is_workday(my_date))"
   ]
  }
 ],
 "metadata": {
  "kernelspec": {
   "display_name": "Python 3",
   "language": "python",
   "name": "python3"
  },
  "language_info": {
   "codemirror_mode": {
    "name": "ipython",
    "version": 3
   },
   "file_extension": ".py",
   "mimetype": "text/x-python",
   "name": "python",
   "nbconvert_exporter": "python",
   "pygments_lexer": "ipython3",
   "version": "3.8.5"
  }
 },
 "nbformat": 4,
 "nbformat_minor": 2
}
